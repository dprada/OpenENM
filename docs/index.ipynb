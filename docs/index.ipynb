{
 "cells": [
  {
   "cell_type": "code",
   "execution_count": 1,
   "id": "c754d8e2-7e41-405f-b630-0562b0b4cb01",
   "metadata": {
    "tags": [
     "remove-input"
    ]
   },
   "outputs": [],
   "source": [
    "# This cell is removed with the tag: \"remove-input\"\n",
    "# As such, it will not be shown in documentation\n",
    "\n",
    "nglview_static_dir = '_static/nglview/'"
   ]
  },
  {
   "cell_type": "markdown",
   "id": "55a9d6a7-f5a0-41d0-8753-5a205315f98f",
   "metadata": {},
   "source": [
    "# OpenENM\n",
    "\n",
    "```{image} https://anaconda.org/uibcdf/openenm/badges/license.svg\n",
    ":target: https://github.com/uibcdf/OpenENM/blob/master/License\n",
    "```\n",
    "\n",
    "OpenENM makes the work with elastic network models easy.\n",
    "\n",
    "## Install it\n",
    "\n",
    "```bash\n",
    "conda install -c uibcdf openenm\n",
    "```"
   ]
  },
  {
   "cell_type": "markdown",
   "id": "4ee03877-fe86-4b89-8bf5-5d62f7fcf1e2",
   "metadata": {},
   "source": [
    "## Use it"
   ]
  },
  {
   "cell_type": "code",
   "execution_count": 5,
   "id": "915d760f-1643-49c8-af7a-7d1307fb5d63",
   "metadata": {},
   "outputs": [
    {
     "data": {
      "application/vnd.jupyter.widget-view+json": {
       "model_id": "19cec2132be74cf49c59d8819ce6fded",
       "version_major": 2,
       "version_minor": 0
      },
      "text/plain": [
       "NGLWidget()"
      ]
     },
     "metadata": {},
     "output_type": "display_data"
    }
   ],
   "source": [
    "import openenm as oenm\n",
    "\n",
    "my_gnm = oenm.GaussianNetworkModel('1V4T', selection='atom_name==\"CA\"', cutoff='7.0 angstroms')\n",
    "\n",
    "my_gnm.view_mode(mode=1)"
   ]
  },
  {
   "cell_type": "code",
   "execution_count": null,
   "id": "4a84454a-86a1-49d4-b7b3-3867318c58a4",
   "metadata": {},
   "outputs": [],
   "source": []
  },
  {
   "cell_type": "code",
   "execution_count": null,
   "id": "8aed06b6-292b-4d06-a8ad-39afc40d85ca",
   "metadata": {},
   "outputs": [],
   "source": [
    "## Citation\n",
    "\n",
    "Coming soon..."
   ]
  },
  {
   "cell_type": "code",
   "execution_count": null,
   "id": "ee65e66e-f1e8-428f-a190-ce44adfa0819",
   "metadata": {},
   "outputs": [],
   "source": [
    "```{eval-rst}\n",
    ".. toctree::\n",
    "   :name: about\n",
    "   :caption: About\n",
    "   :maxdepth: 2\n",
    "   :hidden:\n",
    "\n",
    "   contents/about/what.md\n",
    "   contents/about/installation.md\n",
    "   contents/about/showcase/index.md\n",
    "   contents/about/citation.md\n",
    "\n",
    ".. toctree::\n",
    "   :name: user_guide\n",
    "   :caption: User Guide\n",
    "   :maxdepth: 2\n",
    "   :hidden:\n",
    "\n",
    "   contents/user/gnm/index.md\n",
    "\n",
    ".. toctree::\n",
    "   :name: developer_guide\n",
    "   :caption: Developer Guide\n",
    "   :maxdepth: 2\n",
    "   :hidden:\n",
    "\n",
    "   contents/developer/intro/index.md\n",
    "   \n",
    ".. toctree::\n",
    "   :name: api_doc\n",
    "   :caption: API Documentation\n",
    "   :maxdepth: 2\n",
    "   :hidden:\n",
    "\n",
    "   api/users/api_users.rst\n",
    "   api/developers/api_developers.rst\n",
    "```"
   ]
  }
 ],
 "metadata": {
  "kernelspec": {
   "display_name": "Python 3 (ipykernel)",
   "language": "python",
   "name": "python3"
  },
  "language_info": {
   "codemirror_mode": {
    "name": "ipython",
    "version": 3
   },
   "file_extension": ".py",
   "mimetype": "text/x-python",
   "name": "python",
   "nbconvert_exporter": "python",
   "pygments_lexer": "ipython3",
   "version": "3.9.13"
  }
 },
 "nbformat": 4,
 "nbformat_minor": 5
}

{
 "cells": [
  {
   "cell_type": "markdown",
   "id": "c23af330-9d57-4d84-ad80-4155b2cc24bd",
   "metadata": {},
   "source": [
    "# Test"
   ]
  },
  {
   "cell_type": "code",
   "execution_count": 1,
   "id": "94a29a6e-a103-4520-93cd-7631ef431831",
   "metadata": {},
   "outputs": [
    {
     "data": {
      "application/vnd.jupyter.widget-view+json": {
       "model_id": "5b7a7ebaa1ad4e40b833bb32060d434c",
       "version_major": 2,
       "version_minor": 0
      },
      "text/plain": []
     },
     "metadata": {},
     "output_type": "display_data"
    }
   ],
   "source": [
    "import openenm as oenm"
   ]
  },
  {
   "cell_type": "code",
   "execution_count": 2,
   "id": "20d16a9a-9396-4163-89f2-57090cf47a46",
   "metadata": {},
   "outputs": [],
   "source": [
    "anm = oenm.AnisotropicNetworkModel('1TCD', selection='atom_name==\"CA\"', cutoff='10 angstroms')"
   ]
  },
  {
   "cell_type": "code",
   "execution_count": 4,
   "id": "0de52d97-aed3-4427-9915-518a0077dbd8",
   "metadata": {},
   "outputs": [
    {
     "data": {
      "application/vnd.jupyter.widget-view+json": {
       "model_id": "5e57b8d33d904894ba19e894458dfcf5",
       "version_major": 2,
       "version_minor": 0
      },
      "text/plain": [
       "NGLWidget(max_frame=59)"
      ]
     },
     "metadata": {},
     "output_type": "display_data"
    }
   ],
   "source": [
    "anm.view_mode(mode=6)"
   ]
  },
  {
   "cell_type": "code",
   "execution_count": null,
   "id": "16f688bc-087f-41bc-bb41-e218be978221",
   "metadata": {},
   "outputs": [],
   "source": []
  }
 ],
 "metadata": {
  "kernelspec": {
   "display_name": "Python 3 (ipykernel)",
   "language": "python",
   "name": "python3"
  },
  "language_info": {
   "codemirror_mode": {
    "name": "ipython",
    "version": 3
   },
   "file_extension": ".py",
   "mimetype": "text/x-python",
   "name": "python",
   "nbconvert_exporter": "python",
   "pygments_lexer": "ipython3",
   "version": "3.9.13"
  }
 },
 "nbformat": 4,
 "nbformat_minor": 5
}

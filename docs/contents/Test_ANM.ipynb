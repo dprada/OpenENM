{
 "cells": [
  {
   "cell_type": "markdown",
   "id": "c23af330-9d57-4d84-ad80-4155b2cc24bd",
   "metadata": {},
   "source": [
    "# Test"
   ]
  },
  {
   "cell_type": "code",
   "execution_count": 1,
   "id": "94a29a6e-a103-4520-93cd-7631ef431831",
   "metadata": {},
   "outputs": [
    {
     "data": {
      "application/vnd.jupyter.widget-view+json": {
       "model_id": "3bbb4111132f4815b7f58bc8d13a6ad2",
       "version_major": 2,
       "version_minor": 0
      },
      "text/plain": []
     },
     "metadata": {},
     "output_type": "display_data"
    }
   ],
   "source": [
    "import openenm as oenm"
   ]
  },
  {
   "cell_type": "code",
   "execution_count": 2,
   "id": "20d16a9a-9396-4163-89f2-57090cf47a46",
   "metadata": {},
   "outputs": [
    {
     "name": "stderr",
     "output_type": "stream",
     "text": [
      "/home/diego/MyMachine/locals/miniconda3/envs/OpenENM@dprada_3.7/lib/python3.7/site-packages/molsysmt/item/mmtf_MMTFDecoder/to_molsysmt_Topology.py:34: UserWarning: The structure in the PDB has biological assemblies. There are geometrical transformations proposed in the structure. See the following issue in the source code repository: https://github.com/uibcdf/MolSysMT/issues/33\n",
      "  warnings.warn(warning_message)\n"
     ]
    }
   ],
   "source": [
    "my_enm = oenm.ENM('1TCD', selection='atom_name==\"CA\"', cutoff='12 angstroms')"
   ]
  },
  {
   "cell_type": "code",
   "execution_count": 3,
   "id": "291ff0f6-5a62-4ddb-b523-6a593cebb8fa",
   "metadata": {},
   "outputs": [
    {
     "data": {
      "text/plain": [
       "array([   1,   10,   17,   26,   33,   41,   46,   51,   56,   64,   78,\n",
       "         87,   93,  101,  105,  111,  120,  126,  134,  142,  149,  156,\n",
       "        164,  172,  181,  188,  196,  204,  209,  214,  221,  232,  240,\n",
       "        250,  258,  265,  274,  280,  287,  294,  299,  306,  313,  324,\n",
       "        332,  342,  350,  357,  365,  372,  381,  386,  397,  405,  412,\n",
       "        420,  427,  436,  447,  456,  464,  469,  474,  483,  491,  496,\n",
       "        504,  511,  522,  528,  532,  537,  548,  555,  559,  568,  575,\n",
       "        581,  589,  598,  606,  614,  623,  631,  643,  647,  655,  661,\n",
       "        675,  682,  689,  697,  701,  711,  717,  726,  737,  748,  756,\n",
       "        768,  780,  784,  793,  800,  808,  817,  825,  832,  837,  846,\n",
       "        855,  862,  867,  876,  881,  887,  892,  897,  901,  912,  922,\n",
       "        929,  937,  944,  950,  957,  961,  970,  977,  985,  994, 1003,\n",
       "       1014, 1023, 1028, 1032, 1043, 1050, 1055, 1060, 1067, 1074, 1082,\n",
       "       1089, 1098, 1106, 1111, 1116, 1123, 1128, 1137, 1146, 1154, 1160,\n",
       "       1169, 1178, 1183, 1197, 1203, 1214, 1221, 1228, 1236, 1241, 1253,\n",
       "       1262, 1269, 1276, 1290, 1295, 1303, 1307, 1314, 1318, 1327, 1334,\n",
       "       1339, 1346, 1353, 1362, 1371, 1376, 1385, 1394, 1401, 1411, 1420,\n",
       "       1428, 1436, 1447, 1458, 1472, 1479, 1490, 1496, 1505, 1513, 1517,\n",
       "       1524, 1532, 1540, 1545, 1550, 1559, 1567, 1578, 1586, 1594, 1606,\n",
       "       1610, 1614, 1620, 1627, 1634, 1639, 1648, 1656, 1661, 1672, 1679,\n",
       "       1687, 1699, 1708, 1716, 1727, 1735, 1743, 1751, 1755, 1766, 1774,\n",
       "       1781, 1785, 1789, 1794, 1800, 1808, 1817, 1824, 1833, 1844, 1851,\n",
       "       1860, 1868, 1876, 1885, 1890, 1897, 1907, 1913, 1922, 1929, 1938,\n",
       "       1945, 1953, 1958, 1963, 1968, 1976, 1990, 1999, 2005, 2013, 2017,\n",
       "       2023, 2032, 2038, 2046, 2054, 2061, 2068, 2076, 2084, 2093, 2100,\n",
       "       2108, 2116, 2121, 2126, 2133, 2144, 2152, 2162, 2170, 2177, 2186,\n",
       "       2192, 2199, 2206, 2211, 2218, 2225, 2236, 2244, 2254, 2262, 2269,\n",
       "       2277, 2284, 2293, 2298, 2309, 2317, 2324, 2332, 2339, 2348, 2359,\n",
       "       2368, 2376, 2381, 2386, 2395, 2403, 2408, 2416, 2423, 2434, 2440,\n",
       "       2444, 2449, 2460, 2467, 2471, 2480, 2487, 2493, 2501, 2510, 2518,\n",
       "       2526, 2535, 2543, 2555, 2559, 2567, 2573, 2587, 2594, 2601, 2609,\n",
       "       2613, 2623, 2629, 2638, 2649, 2660, 2668, 2680, 2692, 2696, 2705,\n",
       "       2712, 2720, 2729, 2737, 2744, 2749, 2758, 2767, 2774, 2779, 2788,\n",
       "       2793, 2799, 2804, 2809, 2813, 2824, 2834, 2841, 2849, 2856, 2862,\n",
       "       2869, 2873, 2882, 2889, 2897, 2906, 2915, 2926, 2935, 2940, 2944,\n",
       "       2955, 2962, 2967, 2972, 2979, 2986, 2994, 3001, 3010, 3018, 3023,\n",
       "       3028, 3035, 3040, 3049, 3058, 3066, 3072, 3081, 3090, 3095, 3109,\n",
       "       3115, 3126, 3133, 3140, 3148, 3153, 3165, 3174, 3181, 3188, 3202,\n",
       "       3207, 3215, 3219, 3226, 3230, 3239, 3246, 3251, 3258, 3265, 3274,\n",
       "       3283, 3288, 3297, 3306, 3313, 3323, 3332, 3340, 3348, 3359, 3370,\n",
       "       3384, 3391, 3402, 3408, 3417, 3425, 3429, 3436, 3444, 3452, 3457,\n",
       "       3462, 3471, 3479, 3490, 3498, 3506, 3518, 3522, 3526, 3532, 3539,\n",
       "       3546, 3551, 3560, 3568, 3573, 3584, 3591, 3599, 3611, 3620, 3628,\n",
       "       3639, 3647, 3655, 3663, 3667, 3678, 3686, 3693, 3697, 3701, 3706,\n",
       "       3712, 3720, 3729, 3736, 3745, 3756, 3763, 3772, 3780, 3788, 3797,\n",
       "       3802, 3809])"
      ]
     },
     "execution_count": 3,
     "metadata": {},
     "output_type": "execute_result"
    }
   ],
   "source": [
    "my_enm.atom_indices"
   ]
  },
  {
   "cell_type": "code",
   "execution_count": 4,
   "id": "d14bf69f-554e-4c71-949e-d86c9e85d218",
   "metadata": {},
   "outputs": [
    {
     "data": {
      "text/html": [
       "1.2 nanometer"
      ],
      "text/latex": [
       "$1.2\\ \\mathrm{nanometer}$"
      ],
      "text/plain": [
       "1.2 <Unit('nanometer')>"
      ]
     },
     "execution_count": 4,
     "metadata": {},
     "output_type": "execute_result"
    }
   ],
   "source": [
    "my_enm.cutoff"
   ]
  },
  {
   "cell_type": "code",
   "execution_count": 5,
   "id": "335c0ef7-e344-47dd-b7dc-63384bfa375e",
   "metadata": {},
   "outputs": [
    {
     "data": {
      "text/plain": [
       "array([[ True,  True,  True, ..., False, False, False],\n",
       "       [ True,  True,  True, ..., False, False, False],\n",
       "       [ True,  True,  True, ..., False, False, False],\n",
       "       ...,\n",
       "       [False, False, False, ...,  True,  True,  True],\n",
       "       [False, False, False, ...,  True,  True,  True],\n",
       "       [False, False, False, ...,  True,  True,  True]])"
      ]
     },
     "execution_count": 5,
     "metadata": {},
     "output_type": "execute_result"
    }
   ],
   "source": [
    "my_enm.contacts"
   ]
  },
  {
   "cell_type": "code",
   "execution_count": 6,
   "id": "0c2dda0e-db52-4c06-9667-6746a16134bf",
   "metadata": {},
   "outputs": [
    {
     "data": {
      "image/png": "[encoded data removed]",
      "text/plain": [
       "<Figure size 345.6x345.6 with 1 Axes>"
      ]
     },
     "metadata": {
      "needs_background": "light"
     },
     "output_type": "display_data"
    }
   ],
   "source": [
    "my_enm.show_contact_map()"
   ]
  },
  {
   "cell_type": "code",
   "execution_count": 11,
   "id": "b0857aef-1930-4fcc-a7ad-47b3b31ffdb1",
   "metadata": {},
   "outputs": [],
   "source": [
    "my_enm.calculate_contacts(cutoff='9 angstroms')"
   ]
  },
  {
   "cell_type": "code",
   "execution_count": 12,
   "id": "1ad811aa-79cd-481e-b919-57047f98501e",
   "metadata": {},
   "outputs": [
    {
     "data": {
      "image/png": "[encoded data removed]",
      "text/plain": [
       "<Figure size 288x288 with 1 Axes>"
      ]
     },
     "metadata": {
      "needs_background": "light"
     },
     "output_type": "display_data"
    }
   ],
   "source": [
    "my_enm.show_contact_map()"
   ]
  },
  {
   "cell_type": "code",
   "execution_count": null,
   "id": "73405270-f492-40fd-abcb-1c549223f4ac",
   "metadata": {},
   "outputs": [],
   "source": []
  }
 ],
 "metadata": {
  "kernelspec": {
   "display_name": "Python 3 (ipykernel)",
   "language": "python",
   "name": "python3"
  },
  "language_info": {
   "codemirror_mode": {
    "name": "ipython",
    "version": 3
   },
   "file_extension": ".py",
   "mimetype": "text/x-python",
   "name": "python",
   "nbconvert_exporter": "python",
   "pygments_lexer": "ipython3",
   "version": "3.9.13"
  }
 },
 "nbformat": 4,
 "nbformat_minor": 5
}

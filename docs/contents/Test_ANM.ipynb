{
 "cells": [
  {
   "cell_type": "markdown",
   "id": "c23af330-9d57-4d84-ad80-4155b2cc24bd",
   "metadata": {},
   "source": [
    "# Test"
   ]
  },
  {
   "cell_type": "code",
   "execution_count": 1,
   "id": "94a29a6e-a103-4520-93cd-7631ef431831",
   "metadata": {},
   "outputs": [
    {
     "data": {
      "application/vnd.jupyter.widget-view+json": {
       "model_id": "f56f176332824c13810bdda66a07eef4",
       "version_major": 2,
       "version_minor": 0
      },
      "text/plain": []
     },
     "metadata": {},
     "output_type": "display_data"
    }
   ],
   "source": [
    "import openenm as oenm"
   ]
  },
  {
   "cell_type": "code",
   "execution_count": 2,
   "id": "03f9104d-52b8-48f2-9503-7d53829d8d54",
   "metadata": {},
   "outputs": [],
   "source": [
    "import molsysmt as msm"
   ]
  },
  {
   "cell_type": "code",
   "execution_count": 3,
   "id": "20d16a9a-9396-4163-89f2-57090cf47a46",
   "metadata": {},
   "outputs": [],
   "source": [
    "anm = oenm.AnisotropicNetworkModel('1V4T', selection='atom_name==\"CA\"', cutoff='9 angstroms')"
   ]
  },
  {
   "cell_type": "code",
   "execution_count": 4,
   "id": "73405270-f492-40fd-abcb-1c549223f4ac",
   "metadata": {},
   "outputs": [],
   "source": [
    "component_indices_moving = msm.get(anm.molecular_system, element='component', selection=anm.atom_indices, component_index=True)"
   ]
  },
  {
   "cell_type": "code",
   "execution_count": 8,
   "id": "cd5cb2ab-c232-4027-a621-24b08d3dacf8",
   "metadata": {},
   "outputs": [],
   "source": [
    "atom_indices_moving = msm.get(anm.molecular_system, element='atom', selection='component_index in @component_indices_moving', atom_index=True)"
   ]
  },
  {
   "cell_type": "code",
   "execution_count": 16,
   "id": "7f9e6f06-eef2-42e8-a8fd-fc1f6afb441d",
   "metadata": {},
   "outputs": [],
   "source": [
    "vertices = msm.get(anm.molecular_system, element='atom', selection=anm.atom_indices, coordinates=True)"
   ]
  },
  {
   "cell_type": "code",
   "execution_count": 18,
   "id": "4bcd2578-ee68-46fd-80f6-c85a319cbf88",
   "metadata": {},
   "outputs": [],
   "source": [
    "vertices = msm.pyunitwizard.get_value(vertices[0])"
   ]
  },
  {
   "cell_type": "code",
   "execution_count": 19,
   "id": "36fcc7fe-35a4-417d-8380-84fd17354c57",
   "metadata": {},
   "outputs": [
    {
     "data": {
      "text/plain": [
       "array([[ 5.3777,  0.4796,  6.6222],\n",
       "       [ 5.0042,  0.5591,  6.617 ],\n",
       "       [ 4.956 ,  0.921 ,  6.7287],\n",
       "       ...,\n",
       "       [-0.3016,  2.2691,  5.6132],\n",
       "       [-0.5442,  2.093 ,  5.8515],\n",
       "       [-0.4846,  2.3982,  6.0752]])"
      ]
     },
     "execution_count": 19,
     "metadata": {},
     "output_type": "execute_result"
    }
   ],
   "source": [
    "vertices"
   ]
  },
  {
   "cell_type": "code",
   "execution_count": 29,
   "id": "ab7c97f8-3747-43f3-ace9-6ac9066db532",
   "metadata": {},
   "outputs": [],
   "source": [
    "from scipy.spatial import Voronoi"
   ]
  },
  {
   "cell_type": "code",
   "execution_count": 30,
   "id": "fc730690-f953-4efd-b35c-892b85ad83bf",
   "metadata": {},
   "outputs": [],
   "source": [
    "voronoi = Voronoi(vertices)"
   ]
  },
  {
   "cell_type": "code",
   "execution_count": 36,
   "id": "da83042c-cc43-48a9-b7d7-f931155b8dfd",
   "metadata": {},
   "outputs": [
    {
     "data": {
      "text/plain": [
       "[11, 25, 27, 31, 33, 42, 43, 44, 45, 46, 47, 48, 49, 50, 227, 228, 229, 230]"
      ]
     },
     "execution_count": 36,
     "metadata": {},
     "output_type": "execute_result"
    }
   ],
   "source": [
    "voronoi.regions[0]"
   ]
  },
  {
   "cell_type": "code",
   "execution_count": 35,
   "id": "3bba3e5c-75be-4c19-aa22-0c436864b8f1",
   "metadata": {},
   "outputs": [
    {
     "data": {
      "text/plain": [
       "424"
      ]
     },
     "execution_count": 35,
     "metadata": {},
     "output_type": "execute_result"
    }
   ],
   "source": [
    "len(vertices)"
   ]
  },
  {
   "cell_type": "code",
   "execution_count": 27,
   "id": "4f4fe620-23bd-4942-b245-c0d7cd06af82",
   "metadata": {},
   "outputs": [
    {
     "data": {
      "text/plain": [
       "array(-1, dtype=int32)"
      ]
     },
     "execution_count": 27,
     "metadata": {},
     "output_type": "execute_result"
    }
   ],
   "source": [
    "delaunay.find_simplex([0,0,0])"
   ]
  },
  {
   "cell_type": "code",
   "execution_count": 28,
   "id": "4b7ba3ce-d470-4e79-9951-8dea3096ed09",
   "metadata": {},
   "outputs": [
    {
     "data": {
      "text/plain": [
       "array([[201, 360, 209,  33],\n",
       "       [201, 210, 360, 209],\n",
       "       [ 94,  68,  92, 141],\n",
       "       ...,\n",
       "       [ 25,  38,  29,  28],\n",
       "       [ 25,  38, 225,  39],\n",
       "       [ 25,  38,  28, 225]], dtype=int32)"
      ]
     },
     "execution_count": 28,
     "metadata": {},
     "output_type": "execute_result"
    }
   ],
   "source": [
    "delaunay.simplices"
   ]
  },
  {
   "cell_type": "code",
   "execution_count": null,
   "id": "bc72a145-64c7-4144-999c-ce7deb1b081c",
   "metadata": {},
   "outputs": [],
   "source": []
  }
 ],
 "metadata": {
  "kernelspec": {
   "display_name": "Python 3 (ipykernel)",
   "language": "python",
   "name": "python3"
  },
  "language_info": {
   "codemirror_mode": {
    "name": "ipython",
    "version": 3
   },
   "file_extension": ".py",
   "mimetype": "text/x-python",
   "name": "python",
   "nbconvert_exporter": "python",
   "pygments_lexer": "ipython3",
   "version": "3.9.13"
  }
 },
 "nbformat": 4,
 "nbformat_minor": 5
}

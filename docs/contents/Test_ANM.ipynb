{
 "cells": [
  {
   "cell_type": "markdown",
   "id": "c23af330-9d57-4d84-ad80-4155b2cc24bd",
   "metadata": {},
   "source": [
    "# Test"
   ]
  },
  {
   "cell_type": "code",
   "execution_count": 1,
   "id": "94a29a6e-a103-4520-93cd-7631ef431831",
   "metadata": {},
   "outputs": [
    {
     "data": {
      "application/vnd.jupyter.widget-view+json": {
       "model_id": "8dd2bba9b1de4e24b6543d5a16c08a85",
       "version_major": 2,
       "version_minor": 0
      },
      "text/plain": []
     },
     "metadata": {},
     "output_type": "display_data"
    }
   ],
   "source": [
    "import openenm as oenm"
   ]
  },
  {
   "cell_type": "code",
   "execution_count": 2,
   "id": "03f9104d-52b8-48f2-9503-7d53829d8d54",
   "metadata": {},
   "outputs": [],
   "source": [
    "import molsysmt as msm"
   ]
  },
  {
   "cell_type": "code",
   "execution_count": 3,
   "id": "20d16a9a-9396-4163-89f2-57090cf47a46",
   "metadata": {},
   "outputs": [],
   "source": [
    "anm = oenm.AnisotropicNetworkModel('1V4T', selection='atom_name==\"CA\"', cutoff='9 angstroms')"
   ]
  },
  {
   "cell_type": "code",
   "execution_count": 30,
   "id": "6ce68943-a38b-4a96-8d4f-c5833fc7daf9",
   "metadata": {},
   "outputs": [
    {
     "data": {
      "text/plain": [
       "array([-2.64571344e-15, -1.44828934e-15, -6.42059861e-16, -6.33175661e-16,\n",
       "       -1.91603992e-16, -1.28818676e-17,  1.40556698e-15,  2.01673816e-15,\n",
       "        2.61034386e-15,  3.73523530e-03])"
      ]
     },
     "execution_count": 30,
     "metadata": {},
     "output_type": "execute_result"
    }
   ],
   "source": [
    "anm.eigenvalues[:10]"
   ]
  },
  {
   "cell_type": "code",
   "execution_count": 37,
   "id": "b81bc852-fae4-44b3-a717-db52f9690de4",
   "metadata": {},
   "outputs": [
    {
     "data": {
      "text/plain": [
       "array([[ 0.00000000e+00,  6.14409051e-02,  0.00000000e+00, ...,\n",
       "        -1.68342652e-04,  3.66697873e-05, -1.96997390e-04],\n",
       "       [-2.14986990e-02,  4.54746218e-02,  1.71477241e-02, ...,\n",
       "        -7.66654347e-05,  1.91380545e-05, -1.00746013e-04],\n",
       "       [-8.32504977e-03, -3.77358925e-02, -4.41475518e-02, ...,\n",
       "        -1.59903076e-04,  3.89523021e-05, -2.01947907e-04],\n",
       "       ...,\n",
       "       [ 6.90350410e-03,  2.78777723e-02,  1.04547306e-02, ...,\n",
       "        -2.41726187e-04,  2.08715822e-05,  1.00395864e-04],\n",
       "       [ 2.07758824e-02, -3.68184048e-02,  5.92466329e-02, ...,\n",
       "         2.20875062e-04,  6.45813942e-05, -9.20038255e-05],\n",
       "       [ 6.59667233e-02,  3.33239842e-02, -8.53109972e-03, ...,\n",
       "         2.93489357e-04, -5.82436902e-05, -1.26120872e-04]])"
      ]
     },
     "execution_count": 37,
     "metadata": {},
     "output_type": "execute_result"
    }
   ],
   "source": [
    "anm.eigenvectors"
   ]
  },
  {
   "cell_type": "code",
   "execution_count": null,
   "id": "0f2d1ff2-3652-4140-8a41-1bef424d47c0",
   "metadata": {},
   "outputs": [],
   "source": []
  }
 ],
 "metadata": {
  "kernelspec": {
   "display_name": "Python 3 (ipykernel)",
   "language": "python",
   "name": "python3"
  },
  "language_info": {
   "codemirror_mode": {
    "name": "ipython",
    "version": 3
   },
   "file_extension": ".py",
   "mimetype": "text/x-python",
   "name": "python",
   "nbconvert_exporter": "python",
   "pygments_lexer": "ipython3",
   "version": "3.9.13"
  }
 },
 "nbformat": 4,
 "nbformat_minor": 5
}

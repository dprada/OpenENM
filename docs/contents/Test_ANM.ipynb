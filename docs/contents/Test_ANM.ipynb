{
 "cells": [
  {
   "cell_type": "markdown",
   "id": "c23af330-9d57-4d84-ad80-4155b2cc24bd",
   "metadata": {},
   "source": [
    "# Test"
   ]
  },
  {
   "cell_type": "code",
   "execution_count": 1,
   "id": "94a29a6e-a103-4520-93cd-7631ef431831",
   "metadata": {},
   "outputs": [
    {
     "data": {
      "application/vnd.jupyter.widget-view+json": {
       "model_id": "ecfe76496e924616a043185b9abec141",
       "version_major": 2,
       "version_minor": 0
      },
      "text/plain": []
     },
     "metadata": {},
     "output_type": "display_data"
    }
   ],
   "source": [
    "import openenm as oenm"
   ]
  },
  {
   "cell_type": "code",
   "execution_count": 2,
   "id": "03f9104d-52b8-48f2-9503-7d53829d8d54",
   "metadata": {},
   "outputs": [],
   "source": [
    "import molsysmt as msm\n",
    "from molsysmt import pyunitwizard as puw"
   ]
  },
  {
   "cell_type": "code",
   "execution_count": 3,
   "id": "4b8bf319-ccce-4194-a31a-12e6e2ed2d3c",
   "metadata": {},
   "outputs": [],
   "source": [
    "import lindelint as lin"
   ]
  },
  {
   "cell_type": "code",
   "execution_count": 4,
   "id": "20d16a9a-9396-4163-89f2-57090cf47a46",
   "metadata": {},
   "outputs": [],
   "source": [
    "anm = oenm.AnisotropicNetworkModel('1TCD', selection='atom_name==\"CA\"', cutoff='10 angstroms')"
   ]
  },
  {
   "cell_type": "code",
   "execution_count": 5,
   "id": "2d8b71f3-6e7f-43f4-8d60-628496d2c1de",
   "metadata": {},
   "outputs": [],
   "source": [
    "coordinates = msm.get(anm.molecular_system, element='atom', selection=anm.atom_indices, coordinates=True)"
   ]
  },
  {
   "cell_type": "code",
   "execution_count": 6,
   "id": "0f2d1ff2-3652-4140-8a41-1bef424d47c0",
   "metadata": {},
   "outputs": [],
   "source": [
    "coordinates_2 = msm.get(anm.molecular_system, element='atom', selection=\"atom_name=='CA'\", coordinates=True)"
   ]
  },
  {
   "cell_type": "code",
   "execution_count": 7,
   "id": "354a1650-1caa-4c35-ad0f-06cdddf456bc",
   "metadata": {},
   "outputs": [],
   "source": [
    "arrows = puw.quantity(100.0*anm.modes[8], 'angstroms')"
   ]
  },
  {
   "cell_type": "code",
   "execution_count": 8,
   "id": "7dde0ab9-fc8d-4f36-a810-aac8d98a6601",
   "metadata": {},
   "outputs": [],
   "source": [
    "interpolator = lin.Interpolator(puw.get_value(coordinates[0]), puw.get_value(arrows))"
   ]
  },
  {
   "cell_type": "code",
   "execution_count": 9,
   "id": "585067da-c516-411b-b3a6-d3cc3c46f8a2",
   "metadata": {},
   "outputs": [],
   "source": [
    "arrows_2 = interpolator.do_your_thing(puw.get_value(coordinates_2[0]))"
   ]
  },
  {
   "cell_type": "code",
   "execution_count": 10,
   "id": "cc93701c-058e-4c6c-8325-7cd08c5cf6ff",
   "metadata": {},
   "outputs": [],
   "source": [
    "arrows_2 = puw.quantity(arrows_2, 'angstroms')"
   ]
  },
  {
   "cell_type": "code",
   "execution_count": 11,
   "id": "b81bc852-fae4-44b3-a717-db52f9690de4",
   "metadata": {},
   "outputs": [
    {
     "data": {
      "application/vnd.jupyter.widget-view+json": {
       "model_id": "5cd2e407d5eb4e24b8ce31ad79d419f0",
       "version_major": 2,
       "version_minor": 0
      },
      "text/plain": [
       "NGLWidget()"
      ]
     },
     "metadata": {},
     "output_type": "display_data"
    }
   ],
   "source": [
    "view = msm.view(anm.molecular_system)\n",
    "msm.thirds.nglview.add_arrows(view, coordinates, arrows, color='#ff0000')\n",
    "msm.thirds.nglview.add_arrows(view, coordinates_2, arrows_2)\n",
    "view"
   ]
  },
  {
   "cell_type": "code",
   "execution_count": 17,
   "id": "41d59817-f7d6-4ef9-ba06-e90957ea1915",
   "metadata": {},
   "outputs": [
    {
     "data": {
      "text/html": [
       "<style type=\"text/css\">\n",
       "</style>\n",
       "<table id=\"T_7966e\">\n",
       "  <thead>\n",
       "    <tr>\n",
       "      <th id=\"T_7966e_level0_col0\" class=\"col_heading level0 col0\" >form</th>\n",
       "      <th id=\"T_7966e_level0_col1\" class=\"col_heading level0 col1\" >n_atoms</th>\n",
       "      <th id=\"T_7966e_level0_col2\" class=\"col_heading level0 col2\" >n_groups</th>\n",
       "      <th id=\"T_7966e_level0_col3\" class=\"col_heading level0 col3\" >n_components</th>\n",
       "      <th id=\"T_7966e_level0_col4\" class=\"col_heading level0 col4\" >n_chains</th>\n",
       "      <th id=\"T_7966e_level0_col5\" class=\"col_heading level0 col5\" >n_molecules</th>\n",
       "      <th id=\"T_7966e_level0_col6\" class=\"col_heading level0 col6\" >n_entities</th>\n",
       "      <th id=\"T_7966e_level0_col7\" class=\"col_heading level0 col7\" >n_waters</th>\n",
       "      <th id=\"T_7966e_level0_col8\" class=\"col_heading level0 col8\" >n_proteins</th>\n",
       "      <th id=\"T_7966e_level0_col9\" class=\"col_heading level0 col9\" >n_structures</th>\n",
       "    </tr>\n",
       "  </thead>\n",
       "  <tbody>\n",
       "    <tr>\n",
       "      <td id=\"T_7966e_row0_col0\" class=\"data row0 col0\" >molsysmt.MolSys</td>\n",
       "      <td id=\"T_7966e_row0_col1\" class=\"data row0 col1\" >3983</td>\n",
       "      <td id=\"T_7966e_row0_col2\" class=\"data row0 col2\" >662</td>\n",
       "      <td id=\"T_7966e_row0_col3\" class=\"data row0 col3\" >167</td>\n",
       "      <td id=\"T_7966e_row0_col4\" class=\"data row0 col4\" >4</td>\n",
       "      <td id=\"T_7966e_row0_col5\" class=\"data row0 col5\" >167</td>\n",
       "      <td id=\"T_7966e_row0_col6\" class=\"data row0 col6\" >2</td>\n",
       "      <td id=\"T_7966e_row0_col7\" class=\"data row0 col7\" >165</td>\n",
       "      <td id=\"T_7966e_row0_col8\" class=\"data row0 col8\" >2</td>\n",
       "      <td id=\"T_7966e_row0_col9\" class=\"data row0 col9\" >1</td>\n",
       "    </tr>\n",
       "  </tbody>\n",
       "</table>\n"
      ],
      "text/plain": [
       "<pandas.io.formats.style.Styler at 0x7f2f703dbe50>"
      ]
     },
     "execution_count": 17,
     "metadata": {},
     "output_type": "execute_result"
    }
   ],
   "source": [
    "msm.info(anm.molecular_system)"
   ]
  },
  {
   "cell_type": "code",
   "execution_count": 18,
   "id": "e0298a35-4da7-47bb-a5fd-9f146b48eb88",
   "metadata": {},
   "outputs": [],
   "source": [
    "molecular_system = msm.remove(anm.molecular_system, structure_indices=0)"
   ]
  },
  {
   "cell_type": "code",
   "execution_count": 19,
   "id": "6bfeef1a-7c48-4d9f-9508-7a48ff00d3e6",
   "metadata": {},
   "outputs": [
    {
     "data": {
      "text/html": [
       "<style type=\"text/css\">\n",
       "</style>\n",
       "<table id=\"T_37dab\">\n",
       "  <thead>\n",
       "    <tr>\n",
       "      <th id=\"T_37dab_level0_col0\" class=\"col_heading level0 col0\" >form</th>\n",
       "      <th id=\"T_37dab_level0_col1\" class=\"col_heading level0 col1\" >n_atoms</th>\n",
       "      <th id=\"T_37dab_level0_col2\" class=\"col_heading level0 col2\" >n_groups</th>\n",
       "      <th id=\"T_37dab_level0_col3\" class=\"col_heading level0 col3\" >n_components</th>\n",
       "      <th id=\"T_37dab_level0_col4\" class=\"col_heading level0 col4\" >n_chains</th>\n",
       "      <th id=\"T_37dab_level0_col5\" class=\"col_heading level0 col5\" >n_molecules</th>\n",
       "      <th id=\"T_37dab_level0_col6\" class=\"col_heading level0 col6\" >n_entities</th>\n",
       "      <th id=\"T_37dab_level0_col7\" class=\"col_heading level0 col7\" >n_waters</th>\n",
       "      <th id=\"T_37dab_level0_col8\" class=\"col_heading level0 col8\" >n_proteins</th>\n",
       "      <th id=\"T_37dab_level0_col9\" class=\"col_heading level0 col9\" >n_structures</th>\n",
       "    </tr>\n",
       "  </thead>\n",
       "  <tbody>\n",
       "    <tr>\n",
       "      <td id=\"T_37dab_row0_col0\" class=\"data row0 col0\" >molsysmt.MolSys</td>\n",
       "      <td id=\"T_37dab_row0_col1\" class=\"data row0 col1\" >3983</td>\n",
       "      <td id=\"T_37dab_row0_col2\" class=\"data row0 col2\" >662</td>\n",
       "      <td id=\"T_37dab_row0_col3\" class=\"data row0 col3\" >167</td>\n",
       "      <td id=\"T_37dab_row0_col4\" class=\"data row0 col4\" >4</td>\n",
       "      <td id=\"T_37dab_row0_col5\" class=\"data row0 col5\" >167</td>\n",
       "      <td id=\"T_37dab_row0_col6\" class=\"data row0 col6\" >2</td>\n",
       "      <td id=\"T_37dab_row0_col7\" class=\"data row0 col7\" >165</td>\n",
       "      <td id=\"T_37dab_row0_col8\" class=\"data row0 col8\" >2</td>\n",
       "      <td id=\"T_37dab_row0_col9\" class=\"data row0 col9\" >0</td>\n",
       "    </tr>\n",
       "  </tbody>\n",
       "</table>\n"
      ],
      "text/plain": [
       "<pandas.io.formats.style.Styler at 0x7f2f703d95e0>"
      ]
     },
     "execution_count": 19,
     "metadata": {},
     "output_type": "execute_result"
    }
   ],
   "source": [
    "msm.info(molecular_system)"
   ]
  },
  {
   "cell_type": "code",
   "execution_count": 20,
   "id": "b378f37f-7e9b-48c5-b846-975f15504c8a",
   "metadata": {},
   "outputs": [
    {
     "data": {
      "text/plain": [
       "array([0, 1])"
      ]
     },
     "execution_count": 20,
     "metadata": {},
     "output_type": "execute_result"
    }
   ],
   "source": [
    "msm.get(anm.molecular_system, element='component', selection=anm.atom_indices, component_index=True)"
   ]
  },
  {
   "cell_type": "code",
   "execution_count": null,
   "id": "0e30a10b-c0bc-41e1-8c8f-76cc7556af79",
   "metadata": {},
   "outputs": [],
   "source": []
  }
 ],
 "metadata": {
  "kernelspec": {
   "display_name": "Python 3 (ipykernel)",
   "language": "python",
   "name": "python3"
  },
  "language_info": {
   "codemirror_mode": {
    "name": "ipython",
    "version": 3
   },
   "file_extension": ".py",
   "mimetype": "text/x-python",
   "name": "python",
   "nbconvert_exporter": "python",
   "pygments_lexer": "ipython3",
   "version": "3.9.13"
  }
 },
 "nbformat": 4,
 "nbformat_minor": 5
}

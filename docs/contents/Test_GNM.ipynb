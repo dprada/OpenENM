{
 "cells": [
  {
   "cell_type": "markdown",
   "id": "c23af330-9d57-4d84-ad80-4155b2cc24bd",
   "metadata": {},
   "source": [
    "# Test GNM"
   ]
  },
  {
   "cell_type": "code",
   "execution_count": 1,
   "id": "94a29a6e-a103-4520-93cd-7631ef431831",
   "metadata": {},
   "outputs": [
    {
     "data": {
      "application/vnd.jupyter.widget-view+json": {
       "model_id": "5d535f98f4484b07a8840ea2738d6647",
       "version_major": 2,
       "version_minor": 0
      },
      "text/plain": []
     },
     "metadata": {},
     "output_type": "display_data"
    }
   ],
   "source": [
    "import openenm as oenm\n",
    "import molsysmt as msm\n",
    "import nglview as nv\n",
    "from molsysmt import pyunitwizard as puw\n",
    "from tqdm import tqdm"
   ]
  },
  {
   "cell_type": "code",
   "execution_count": 2,
   "id": "20d16a9a-9396-4163-89f2-57090cf47a46",
   "metadata": {},
   "outputs": [],
   "source": [
    "my_gnm = oenm.GaussianNetworkModel('1V4T', selection='atom_name==\"CA\"', cutoff='7.0 angstroms')"
   ]
  },
  {
   "cell_type": "code",
   "execution_count": 3,
   "id": "0979fc2a-840a-4589-8d44-8af224c5537d",
   "metadata": {},
   "outputs": [
    {
     "data": {
      "application/vnd.jupyter.widget-view+json": {
       "model_id": "936752ebc5704c6d841cde7122eb8b9d",
       "version_major": 2,
       "version_minor": 0
      },
      "text/plain": [
       "NGLWidget()"
      ]
     },
     "metadata": {},
     "output_type": "display_data"
    }
   ],
   "source": [
    "my_gnm.view()"
   ]
  },
  {
   "cell_type": "code",
   "execution_count": 8,
   "id": "51cb9193-5200-4e10-b294-c5ebd3a86c5f",
   "metadata": {},
   "outputs": [],
   "source": [
    "import matplotlib.pyplot as plt"
   ]
  },
  {
   "cell_type": "code",
   "execution_count": 11,
   "id": "cf48fc8b-0cda-4616-82cb-b884916201a3",
   "metadata": {},
   "outputs": [],
   "source": [
    "import numpy as np"
   ]
  },
  {
   "cell_type": "code",
   "execution_count": 10,
   "id": "ecfe5b30-01e3-44c2-b080-c3f17b469182",
   "metadata": {},
   "outputs": [
    {
     "ename": "NameError",
     "evalue": "name 'enumerage' is not defined",
     "output_type": "error",
     "traceback": [
      "\u001b[0;31m---------------------------------------------------------------------------\u001b[0m",
      "\u001b[0;31mNameError\u001b[0m                                 Traceback (most recent call last)",
      "Cell \u001b[0;32mIn [10], line 1\u001b[0m\n\u001b[0;32m----> 1\u001b[0m plt\u001b[38;5;241m.\u001b[39mscatter(\u001b[43menumerage\u001b[49m(my_gnm\u001b[38;5;241m.\u001b[39mfrequencies))\n",
      "\u001b[0;31mNameError\u001b[0m: name 'enumerage' is not defined"
     ]
    }
   ],
   "source": [
    "plt.scatter(enumerage(my_gnm.frequencies))"
   ]
  },
  {
   "cell_type": "code",
   "execution_count": 7,
   "id": "85cee911-f5e1-48e7-a7bc-0bfc83b53e41",
   "metadata": {},
   "outputs": [
    {
     "ename": "NameError",
     "evalue": "name 'plt' is not defined",
     "output_type": "error",
     "traceback": [
      "\u001b[0;31m---------------------------------------------------------------------------\u001b[0m",
      "\u001b[0;31mNameError\u001b[0m                                 Traceback (most recent call last)",
      "Cell \u001b[0;32mIn [7], line 1\u001b[0m\n\u001b[0;32m----> 1\u001b[0m \u001b[43mplt\u001b[49m\u001b[38;5;241m.\u001b[39mscatter(my_gnm\u001b[38;5;241m.\u001b[39mfrequencies)\n",
      "\u001b[0;31mNameError\u001b[0m: name 'plt' is not defined"
     ]
    }
   ],
   "source": [
    "plt.scatter(my_gnm.frequencies)"
   ]
  },
  {
   "cell_type": "code",
   "execution_count": 4,
   "id": "090690c8-6b2c-49ab-a7bb-8ddc04155288",
   "metadata": {},
   "outputs": [
    {
     "name": "stdout",
     "output_type": "stream",
     "text": [
      "so\n"
     ]
    }
   ],
   "source": [
    "print('so')"
   ]
  },
  {
   "cell_type": "code",
   "execution_count": null,
   "id": "2af8c6c6-68cc-40d8-834e-993259c78e39",
   "metadata": {},
   "outputs": [],
   "source": [
    "my_gnm.view_model(protein=True)"
   ]
  },
  {
   "cell_type": "code",
   "execution_count": null,
   "id": "0c2dda0e-db52-4c06-9667-6746a16134bf",
   "metadata": {},
   "outputs": [],
   "source": [
    "my_gnm.show_contact_map()"
   ]
  },
  {
   "cell_type": "code",
   "execution_count": null,
   "id": "6be44ffe-709d-453b-9b40-18d69e83cae6",
   "metadata": {},
   "outputs": [],
   "source": [
    "my_gnm.show_correlation_matrix()"
   ]
  },
  {
   "cell_type": "code",
   "execution_count": null,
   "id": "2cd02613-bee2-4166-a1a3-db287d59cc0e",
   "metadata": {},
   "outputs": [],
   "source": [
    "my_gnm.show_b_factors()"
   ]
  },
  {
   "cell_type": "code",
   "execution_count": null,
   "id": "b4868a37-908f-4289-b039-b94f04b4ec8d",
   "metadata": {},
   "outputs": [],
   "source": [
    "my_gnm.show_b_factors_dispersion()"
   ]
  },
  {
   "cell_type": "code",
   "execution_count": null,
   "id": "1c52b4a6-991b-4e08-af10-4c17d33b738c",
   "metadata": {},
   "outputs": [],
   "source": [
    "my_gnm.show_best_cutoff()"
   ]
  },
  {
   "cell_type": "code",
   "execution_count": null,
   "id": "92737598-c577-4f6d-9c28-e50f13d38074",
   "metadata": {},
   "outputs": [],
   "source": [
    "my_gnm.view()"
   ]
  },
  {
   "cell_type": "code",
   "execution_count": null,
   "id": "d356306a-3b8b-41d6-a633-f94213df495c",
   "metadata": {},
   "outputs": [],
   "source": [
    "import numpy as np"
   ]
  },
  {
   "cell_type": "code",
   "execution_count": null,
   "id": "684f636a-9a9e-400c-8147-48e6f9d2a287",
   "metadata": {},
   "outputs": [],
   "source": [
    "np.where(my_gnm.contacts)"
   ]
  },
  {
   "cell_type": "code",
   "execution_count": null,
   "id": "6dd63820-b5f2-4078-adbb-be51062ebeb8",
   "metadata": {},
   "outputs": [],
   "source": []
  }
 ],
 "metadata": {
  "kernelspec": {
   "display_name": "Python 3 (ipykernel)",
   "language": "python",
   "name": "python3"
  },
  "language_info": {
   "codemirror_mode": {
    "name": "ipython",
    "version": 3
   },
   "file_extension": ".py",
   "mimetype": "text/x-python",
   "name": "python",
   "nbconvert_exporter": "python",
   "pygments_lexer": "ipython3",
   "version": "3.9.13"
  }
 },
 "nbformat": 4,
 "nbformat_minor": 5
}

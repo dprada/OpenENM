{
 "cells": [
  {
   "cell_type": "markdown",
   "id": "c23af330-9d57-4d84-ad80-4155b2cc24bd",
   "metadata": {},
   "source": [
    "# Test GNM"
   ]
  },
  {
   "cell_type": "code",
   "execution_count": 1,
   "id": "94a29a6e-a103-4520-93cd-7631ef431831",
   "metadata": {},
   "outputs": [
    {
     "data": {
      "application/vnd.jupyter.widget-view+json": {
       "model_id": "c61f1dd202a644359325f0e38cfaf47f",
       "version_major": 2,
       "version_minor": 0
      },
      "text/plain": []
     },
     "metadata": {},
     "output_type": "display_data"
    }
   ],
   "source": [
    "import openenm as oenm"
   ]
  },
  {
   "cell_type": "code",
   "execution_count": 2,
   "id": "20d16a9a-9396-4163-89f2-57090cf47a46",
   "metadata": {},
   "outputs": [],
   "source": [
    "my_gnm = oenm.GaussianNetworkModel('1TCD', selection='atom_name==\"CA\"', cutoff='7.5 angstroms')"
   ]
  },
  {
   "cell_type": "code",
   "execution_count": 3,
   "id": "2af8c6c6-68cc-40d8-834e-993259c78e39",
   "metadata": {},
   "outputs": [
    {
     "name": "stderr",
     "output_type": "stream",
     "text": [
      " 52%|█████████████████████████████████████████████████████████████████████████████████████████▎                                                                                  | 258/497 [06:41<06:11,  1.56s/it]\n"
     ]
    },
    {
     "ename": "KeyboardInterrupt",
     "evalue": "",
     "output_type": "error",
     "traceback": [
      "\u001b[0;31m---------------------------------------------------------------------------\u001b[0m",
      "\u001b[0;31mKeyboardInterrupt\u001b[0m                         Traceback (most recent call last)",
      "Cell \u001b[0;32mIn [3], line 1\u001b[0m\n\u001b[0;32m----> 1\u001b[0m \u001b[43mmy_gnm\u001b[49m\u001b[38;5;241;43m.\u001b[39;49m\u001b[43mview_model\u001b[49m\u001b[43m(\u001b[49m\u001b[43mprotein\u001b[49m\u001b[38;5;241;43m=\u001b[39;49m\u001b[38;5;28;43;01mTrue\u001b[39;49;00m\u001b[43m)\u001b[49m\n",
      "File \u001b[0;32m~/projects@dprada/OpenENM/openenm/gaussian_network_model.py:217\u001b[0m, in \u001b[0;36mGaussianNetworkModel.view_model\u001b[0;34m(self, protein)\u001b[0m\n\u001b[1;32m    215\u001b[0m     \u001b[38;5;28;01mfor\u001b[39;00m jj \u001b[38;5;129;01min\u001b[39;00m \u001b[38;5;28mrange\u001b[39m(ii\u001b[38;5;241m+\u001b[39m\u001b[38;5;241m1\u001b[39m, \u001b[38;5;28mself\u001b[39m\u001b[38;5;241m.\u001b[39mn_nodes):\n\u001b[1;32m    216\u001b[0m         \u001b[38;5;28;01mif\u001b[39;00m \u001b[38;5;28mself\u001b[39m\u001b[38;5;241m.\u001b[39mcontacts[ii,jj]:\n\u001b[0;32m--> 217\u001b[0m             \u001b[43moutput\u001b[49m\u001b[38;5;241;43m.\u001b[39;49m\u001b[43mshape\u001b[49m\u001b[38;5;241;43m.\u001b[39;49m\u001b[43madd_cylinder\u001b[49m\u001b[43m(\u001b[49m\u001b[43mcoordinates\u001b[49m\u001b[43m[\u001b[49m\u001b[43mii\u001b[49m\u001b[43m]\u001b[49m\u001b[43m,\u001b[49m\u001b[43m \u001b[49m\u001b[43mcoordinates\u001b[49m\u001b[43m[\u001b[49m\u001b[43mjj\u001b[49m\u001b[43m]\u001b[49m\u001b[43m,\u001b[49m\u001b[43m \u001b[49m\u001b[43m[\u001b[49m\u001b[38;5;241;43m0.6\u001b[39;49m\u001b[43m,\u001b[49m\u001b[43m \u001b[49m\u001b[38;5;241;43m0.6\u001b[39;49m\u001b[43m,\u001b[49m\u001b[43m \u001b[49m\u001b[38;5;241;43m0.6\u001b[39;49m\u001b[43m]\u001b[49m\u001b[43m,\u001b[49m\u001b[43m \u001b[49m\u001b[38;5;241;43m0.2\u001b[39;49m\u001b[43m)\u001b[49m\n\u001b[1;32m    219\u001b[0m \u001b[38;5;28;01mreturn\u001b[39;00m output\n",
      "File \u001b[0;32m~/Myopt/miniconda3/envs/OpenENM@dprada_3.9/lib/python3.9/site-packages/nglview/shape.py:98\u001b[0m, in \u001b[0;36mShape._make_func.<locals>.make_func.<locals>.func\u001b[0;34m(self, *args)\u001b[0m\n\u001b[1;32m     94\u001b[0m \u001b[38;5;28;01mdef\u001b[39;00m \u001b[38;5;21mfunc\u001b[39m(\u001b[38;5;28mself\u001b[39m, \u001b[38;5;241m*\u001b[39margs):\n\u001b[1;32m     95\u001b[0m     args_with_name \u001b[38;5;241m=\u001b[39m [\n\u001b[1;32m     96\u001b[0m         name,\n\u001b[1;32m     97\u001b[0m     ] \u001b[38;5;241m+\u001b[39m \u001b[38;5;28mlist\u001b[39m(args)\n\u001b[0;32m---> 98\u001b[0m     \u001b[38;5;28;01mreturn\u001b[39;00m \u001b[38;5;28;43mself\u001b[39;49m\u001b[38;5;241;43m.\u001b[39;49m\u001b[43madd\u001b[49m\u001b[43m(\u001b[49m\u001b[38;5;241;43m*\u001b[39;49m\u001b[43margs_with_name\u001b[49m\u001b[43m)\u001b[49m\n",
      "File \u001b[0;32m~/Myopt/miniconda3/envs/OpenENM@dprada_3.9/lib/python3.9/site-packages/nglview/shape.py:121\u001b[0m, in \u001b[0;36mShape.add\u001b[0;34m(self, *args)\u001b[0m\n\u001b[1;32m    108\u001b[0m \u001b[38;5;129m@_update_url\u001b[39m\n\u001b[1;32m    109\u001b[0m \u001b[38;5;28;01mdef\u001b[39;00m \u001b[38;5;21madd\u001b[39m(\u001b[38;5;28mself\u001b[39m, \u001b[38;5;241m*\u001b[39margs):\n\u001b[1;32m    110\u001b[0m     \u001b[38;5;124;03m\"\"\"\u001b[39;00m\n\u001b[1;32m    111\u001b[0m \n\u001b[1;32m    112\u001b[0m \u001b[38;5;124;03m    Examples\u001b[39;00m\n\u001b[0;32m   (...)\u001b[0m\n\u001b[1;32m    118\u001b[0m \u001b[38;5;124;03m    {ngl_url}\u001b[39;00m\n\u001b[1;32m    119\u001b[0m \u001b[38;5;124;03m    \"\"\"\u001b[39;00m\n\u001b[0;32m--> 121\u001b[0m     \u001b[38;5;28;01mreturn\u001b[39;00m \u001b[38;5;28;43mself\u001b[39;49m\u001b[38;5;241;43m.\u001b[39;49m\u001b[43mview\u001b[49m\u001b[38;5;241;43m.\u001b[39;49m\u001b[43m_add_shape\u001b[49m\u001b[43m(\u001b[49m\u001b[43m[\u001b[49m\n\u001b[1;32m    122\u001b[0m \u001b[43m        \u001b[49m\u001b[43margs\u001b[49m\u001b[43m,\u001b[49m\n\u001b[1;32m    123\u001b[0m \u001b[43m    \u001b[49m\u001b[43m]\u001b[49m\u001b[43m)\u001b[49m\n",
      "File \u001b[0;32m~/Myopt/miniconda3/envs/OpenENM@dprada_3.9/lib/python3.9/site-packages/nglview/widget.py:855\u001b[0m, in \u001b[0;36mNGLWidget._add_shape\u001b[0;34m(self, shapes, name)\u001b[0m\n\u001b[1;32m    852\u001b[0m comp_name \u001b[38;5;241m=\u001b[39m py_utils\u001b[38;5;241m.\u001b[39mget_name(\u001b[38;5;28mself\u001b[39m\u001b[38;5;241m.\u001b[39mshape)\n\u001b[1;32m    853\u001b[0m \u001b[38;5;28mself\u001b[39m\u001b[38;5;241m.\u001b[39m_ngl_component_names\u001b[38;5;241m.\u001b[39mappend(comp_name)\n\u001b[0;32m--> 855\u001b[0m \u001b[38;5;28;43mself\u001b[39;49m\u001b[38;5;241;43m.\u001b[39;49m\u001b[43m_update_component_auto_completion\u001b[49m\u001b[43m(\u001b[49m\u001b[43m)\u001b[49m\n\u001b[1;32m    856\u001b[0m \u001b[38;5;28;01mreturn\u001b[39;00m ComponentViewer(\u001b[38;5;28mself\u001b[39m, cid)\n",
      "File \u001b[0;32m~/Myopt/miniconda3/envs/OpenENM@dprada_3.9/lib/python3.9/site-packages/nglview/widget.py:1533\u001b[0m, in \u001b[0;36mNGLWidget._update_component_auto_completion\u001b[0;34m(self)\u001b[0m\n\u001b[1;32m   1530\u001b[0m trajids \u001b[38;5;241m=\u001b[39m [traj\u001b[38;5;241m.\u001b[39mid \u001b[38;5;28;01mfor\u001b[39;00m traj \u001b[38;5;129;01min\u001b[39;00m \u001b[38;5;28mself\u001b[39m\u001b[38;5;241m.\u001b[39m_trajlist]\n\u001b[1;32m   1532\u001b[0m \u001b[38;5;28;01mfor\u001b[39;00m index, cid \u001b[38;5;129;01min\u001b[39;00m \u001b[38;5;28menumerate\u001b[39m(\u001b[38;5;28mself\u001b[39m\u001b[38;5;241m.\u001b[39m_ngl_component_ids):\n\u001b[0;32m-> 1533\u001b[0m     comp \u001b[38;5;241m=\u001b[39m \u001b[43mComponentViewer\u001b[49m\u001b[43m(\u001b[49m\u001b[38;5;28;43mself\u001b[39;49m\u001b[43m,\u001b[49m\u001b[43m \u001b[49m\u001b[43mcid\u001b[49m\u001b[43m)\u001b[49m\n\u001b[1;32m   1534\u001b[0m     name \u001b[38;5;241m=\u001b[39m \u001b[38;5;124m'\u001b[39m\u001b[38;5;124mcomponent_\u001b[39m\u001b[38;5;124m'\u001b[39m \u001b[38;5;241m+\u001b[39m \u001b[38;5;28mstr\u001b[39m(index)\n\u001b[1;32m   1535\u001b[0m     \u001b[38;5;28msetattr\u001b[39m(\u001b[38;5;28mself\u001b[39m, name, comp)\n",
      "File \u001b[0;32m~/Myopt/miniconda3/envs/OpenENM@dprada_3.9/lib/python3.9/site-packages/nglview/component.py:21\u001b[0m, in \u001b[0;36mComponentViewer.__init__\u001b[0;34m(self, view, id)\u001b[0m\n\u001b[1;32m     19\u001b[0m \u001b[38;5;28mself\u001b[39m\u001b[38;5;241m.\u001b[39m_view \u001b[38;5;241m=\u001b[39m view\n\u001b[1;32m     20\u001b[0m \u001b[38;5;28mself\u001b[39m\u001b[38;5;241m.\u001b[39m_id \u001b[38;5;241m=\u001b[39m \u001b[38;5;28mid\u001b[39m\n\u001b[0;32m---> 21\u001b[0m \u001b[43mwidget_utils\u001b[49m\u001b[38;5;241;43m.\u001b[39;49m\u001b[43m_add_repr_method_shortcut\u001b[49m\u001b[43m(\u001b[49m\u001b[38;5;28;43mself\u001b[39;49m\u001b[43m,\u001b[49m\u001b[43m \u001b[49m\u001b[38;5;28;43mself\u001b[39;49m\u001b[38;5;241;43m.\u001b[39;49m\u001b[43m_view\u001b[49m\u001b[43m)\u001b[49m\n\u001b[1;32m     22\u001b[0m \u001b[38;5;28mself\u001b[39m\u001b[38;5;241m.\u001b[39m_borrow_attribute(\u001b[38;5;28mself\u001b[39m\u001b[38;5;241m.\u001b[39m_view, [\n\u001b[1;32m     23\u001b[0m     \u001b[38;5;124m'\u001b[39m\u001b[38;5;124mclear_representations\u001b[39m\u001b[38;5;124m'\u001b[39m, \u001b[38;5;124m'\u001b[39m\u001b[38;5;124m_remove_representations_by_name\u001b[39m\u001b[38;5;124m'\u001b[39m,\n\u001b[1;32m     24\u001b[0m     \u001b[38;5;124m'\u001b[39m\u001b[38;5;124m_update_representations_by_name\u001b[39m\u001b[38;5;124m'\u001b[39m, \u001b[38;5;124m'\u001b[39m\u001b[38;5;124mcenter_view\u001b[39m\u001b[38;5;124m'\u001b[39m, \u001b[38;5;124m'\u001b[39m\u001b[38;5;124mcenter\u001b[39m\u001b[38;5;124m'\u001b[39m,\n\u001b[1;32m     25\u001b[0m     \u001b[38;5;124m'\u001b[39m\u001b[38;5;124mclear\u001b[39m\u001b[38;5;124m'\u001b[39m, \u001b[38;5;124m'\u001b[39m\u001b[38;5;124mset_representations\u001b[39m\u001b[38;5;124m'\u001b[39m\n\u001b[1;32m     26\u001b[0m ], [\u001b[38;5;124m'\u001b[39m\u001b[38;5;124mget_structure_string\u001b[39m\u001b[38;5;124m'\u001b[39m, \u001b[38;5;124m'\u001b[39m\u001b[38;5;124mget_coordinates\u001b[39m\u001b[38;5;124m'\u001b[39m, \u001b[38;5;124m'\u001b[39m\u001b[38;5;124mn_frames\u001b[39m\u001b[38;5;124m'\u001b[39m])\n",
      "File \u001b[0;32m~/Myopt/miniconda3/envs/OpenENM@dprada_3.9/lib/python3.9/site-packages/nglview/utils/widget_utils.py:90\u001b[0m, in \u001b[0;36m_add_repr_method_shortcut\u001b[0;34m(self, other)\u001b[0m\n\u001b[1;32m     86\u001b[0m \u001b[38;5;28;01mfor\u001b[39;00m rep \u001b[38;5;129;01min\u001b[39;00m REPRESENTATION_NAME_PAIRS:\n\u001b[1;32m     87\u001b[0m     \u001b[38;5;28;01mfor\u001b[39;00m make_func, root_fn \u001b[38;5;129;01min\u001b[39;00m [(make_func_add, \u001b[38;5;124m'\u001b[39m\u001b[38;5;124madd\u001b[39m\u001b[38;5;124m'\u001b[39m),\n\u001b[1;32m     88\u001b[0m                                (make_func_update, \u001b[38;5;124m'\u001b[39m\u001b[38;5;124mupdate\u001b[39m\u001b[38;5;124m'\u001b[39m),\n\u001b[1;32m     89\u001b[0m                                (make_func_remove, \u001b[38;5;124m'\u001b[39m\u001b[38;5;124mremove\u001b[39m\u001b[38;5;124m'\u001b[39m)]:\n\u001b[0;32m---> 90\u001b[0m         func \u001b[38;5;241m=\u001b[39m \u001b[43mmake_func\u001b[49m\u001b[43m(\u001b[49m\u001b[43mrep\u001b[49m\u001b[43m)\u001b[49m\n\u001b[1;32m     91\u001b[0m         fn \u001b[38;5;241m=\u001b[39m \u001b[38;5;124m'\u001b[39m\u001b[38;5;124m_\u001b[39m\u001b[38;5;124m'\u001b[39m\u001b[38;5;241m.\u001b[39mjoin((root_fn, rep[\u001b[38;5;241m0\u001b[39m]))\n\u001b[1;32m     92\u001b[0m         \u001b[38;5;28msetattr\u001b[39m(\u001b[38;5;28mself\u001b[39m, fn, MethodType(func, other))\n",
      "File \u001b[0;32m~/Myopt/miniconda3/envs/OpenENM@dprada_3.9/lib/python3.9/site-packages/nglview/utils/widget_utils.py:68\u001b[0m, in \u001b[0;36m_add_repr_method_shortcut.<locals>.make_func_remove\u001b[0;34m(rep)\u001b[0m\n\u001b[1;32m     64\u001b[0m \u001b[38;5;28;01mdef\u001b[39;00m \u001b[38;5;21mmake_func_remove\u001b[39m(rep):\n\u001b[1;32m     65\u001b[0m     \u001b[38;5;124;03m\"\"\"return a new function object\u001b[39;00m\n\u001b[1;32m     66\u001b[0m \u001b[38;5;124;03m    \"\"\"\u001b[39;00m\n\u001b[0;32m---> 68\u001b[0m     \u001b[38;5;28;01mdef\u001b[39;00m \u001b[38;5;21mfunc\u001b[39m(this, \u001b[38;5;241m*\u001b[39m\u001b[38;5;241m*\u001b[39mkwargs):\n\u001b[1;32m     69\u001b[0m         \u001b[38;5;124;03m\"\"\"\u001b[39;00m\n\u001b[1;32m     70\u001b[0m \u001b[38;5;124;03m        \"\"\"\u001b[39;00m\n\u001b[1;32m     71\u001b[0m         \u001b[38;5;28mself\u001b[39m\u001b[38;5;241m.\u001b[39m_remove_representations_by_name(repr_name\u001b[38;5;241m=\u001b[39mrep[\u001b[38;5;241m1\u001b[39m], \u001b[38;5;241m*\u001b[39m\u001b[38;5;241m*\u001b[39mkwargs)\n",
      "\u001b[0;31mKeyboardInterrupt\u001b[0m: "
     ]
    }
   ],
   "source": [
    "my_gnm.view_model(protein=True)"
   ]
  },
  {
   "cell_type": "code",
   "execution_count": null,
   "id": "0c2dda0e-db52-4c06-9667-6746a16134bf",
   "metadata": {},
   "outputs": [],
   "source": [
    "my_gnm.show_contact_map()"
   ]
  },
  {
   "cell_type": "code",
   "execution_count": null,
   "id": "6be44ffe-709d-453b-9b40-18d69e83cae6",
   "metadata": {},
   "outputs": [],
   "source": [
    "my_gnm.show_correlation_matrix()"
   ]
  },
  {
   "cell_type": "code",
   "execution_count": null,
   "id": "2cd02613-bee2-4166-a1a3-db287d59cc0e",
   "metadata": {},
   "outputs": [],
   "source": [
    "my_gnm.show_b_factors()"
   ]
  },
  {
   "cell_type": "code",
   "execution_count": null,
   "id": "b4868a37-908f-4289-b039-b94f04b4ec8d",
   "metadata": {},
   "outputs": [],
   "source": [
    "my_gnm.show_b_factors_dispersion()"
   ]
  },
  {
   "cell_type": "code",
   "execution_count": null,
   "id": "1c52b4a6-991b-4e08-af10-4c17d33b738c",
   "metadata": {},
   "outputs": [],
   "source": [
    "my_gnm.show_best_cutoff()"
   ]
  },
  {
   "cell_type": "code",
   "execution_count": null,
   "id": "92737598-c577-4f6d-9c28-e50f13d38074",
   "metadata": {},
   "outputs": [],
   "source": [
    "my_gnm.view()"
   ]
  },
  {
   "cell_type": "code",
   "execution_count": null,
   "id": "d356306a-3b8b-41d6-a633-f94213df495c",
   "metadata": {},
   "outputs": [],
   "source": [
    "import numpy as np"
   ]
  },
  {
   "cell_type": "code",
   "execution_count": null,
   "id": "684f636a-9a9e-400c-8147-48e6f9d2a287",
   "metadata": {},
   "outputs": [],
   "source": [
    "np.where(my_gnm.contacts)"
   ]
  },
  {
   "cell_type": "code",
   "execution_count": null,
   "id": "6dd63820-b5f2-4078-adbb-be51062ebeb8",
   "metadata": {},
   "outputs": [],
   "source": []
  }
 ],
 "metadata": {
  "kernelspec": {
   "display_name": "Python 3 (ipykernel)",
   "language": "python",
   "name": "python3"
  },
  "language_info": {
   "codemirror_mode": {
    "name": "ipython",
    "version": 3
   },
   "file_extension": ".py",
   "mimetype": "text/x-python",
   "name": "python",
   "nbconvert_exporter": "python",
   "pygments_lexer": "ipython3",
   "version": "3.9.13"
  }
 },
 "nbformat": 4,
 "nbformat_minor": 5
}
